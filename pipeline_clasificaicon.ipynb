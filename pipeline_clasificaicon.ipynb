{
 "cells": [
  {
   "cell_type": "code",
   "execution_count": null,
   "metadata": {},
   "outputs": [
    {
     "data": {
      "text/plain": [
       "['pipeline_clasificacion.joblib']"
      ]
     },
     "execution_count": 2,
     "metadata": {},
     "output_type": "execute_result"
    }
   ],
   "source": [
    "from sklearn.pipeline import Pipeline\n",
    "from sklearn.model_selection import train_test_split\n",
    "from sklearn.preprocessing import LabelEncoder\n",
    "from sklearn.ensemble import RandomForestClassifier\n",
    "import pandas as pd\n",
    "\n",
    "# CARGAR LOS DATOS.\n",
    "df = pd.read_csv('ds_diamonds.csv')\n",
    "\n",
    "# PREPARAR LOS DATOS.\n",
    "X = df[['carat', 'depth', 'table', 'x', 'y', 'z']]\n",
    "y = df['cut']\n",
    "\n",
    "# CODIFICAR LA VARIABLE CATEGÓRICA 'CUT'.\n",
    "label_encoder = LabelEncoder()\n",
    "y_encoded = label_encoder.fit_transform(y)\n",
    "\n",
    "# DIVIDIR LOS DATOS.\n",
    "X_train, X_test, y_train, y_test = train_test_split(X, y_encoded, test_size=0.2, random_state=42)\n",
    "\n",
    "# CREAR PIPELINE.\n",
    "pipeline = Pipeline([\n",
    "    ('classifier', RandomForestClassifier())\n",
    "])\n",
    "\n",
    "# ENTRENAR EL MODELO.\n",
    "pipeline.fit(X_train, y_train)\n",
    "\n",
    "# GUARDAR EL MODELO.\n",
    "import joblib\n",
    "joblib.dump(pipeline, 'pipeline_clasificacion.joblib')\n"
   ]
  }
 ],
 "metadata": {
  "kernelspec": {
   "display_name": "Python 3",
   "language": "python",
   "name": "python3"
  },
  "language_info": {
   "codemirror_mode": {
    "name": "ipython",
    "version": 3
   },
   "file_extension": ".py",
   "mimetype": "text/x-python",
   "name": "python",
   "nbconvert_exporter": "python",
   "pygments_lexer": "ipython3",
   "version": "3.13.1"
  }
 },
 "nbformat": 4,
 "nbformat_minor": 2
}
